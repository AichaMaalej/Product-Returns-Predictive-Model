{
 "cells": [
  {
   "cell_type": "markdown",
   "id": "a38bcd5d",
   "metadata": {},
   "source": [
    "# Step 1: Data Exploration and Understanding\n",
    "\n"
   ]
  },
  {
   "cell_type": "markdown",
   "id": "0d8c2049",
   "metadata": {},
   "source": [
    "## 1.1. Load the dataset into a Jupyter notebook and Examine the first few rows to gain an initial understanding of the data format and content.\n",
    "\n",
    "\n"
   ]
  },
  {
   "cell_type": "code",
   "execution_count": 3,
   "id": "267f16ce",
   "metadata": {},
   "outputs": [],
   "source": [
    "import pandas as pd\n",
    "import numpy as np"
   ]
  },
  {
   "cell_type": "code",
   "execution_count": 4,
   "id": "5ff2b10a",
   "metadata": {
    "scrolled": true
   },
   "outputs": [
    {
     "name": "stdout",
     "output_type": "stream",
     "text": [
      "\n",
      "First Few Rows of the Dataset:\n"
     ]
    },
    {
     "data": {
      "text/html": [
       "<div>\n",
       "<style scoped>\n",
       "    .dataframe tbody tr th:only-of-type {\n",
       "        vertical-align: middle;\n",
       "    }\n",
       "\n",
       "    .dataframe tbody tr th {\n",
       "        vertical-align: top;\n",
       "    }\n",
       "\n",
       "    .dataframe thead th {\n",
       "        text-align: right;\n",
       "    }\n",
       "</style>\n",
       "<table border=\"1\" class=\"dataframe\">\n",
       "  <thead>\n",
       "    <tr style=\"text-align: right;\">\n",
       "      <th></th>\n",
       "      <th>order_ID</th>\n",
       "      <th>cust_ID</th>\n",
       "      <th>gender</th>\n",
       "      <th>date_of_birth</th>\n",
       "      <th>order_date</th>\n",
       "      <th>order_weekday</th>\n",
       "      <th>order_time</th>\n",
       "      <th>total_products_purchased_on_order</th>\n",
       "      <th>order_products</th>\n",
       "      <th>order_has_different_sizes_of_same_product</th>\n",
       "      <th>order_has_different_colours_of_same_product</th>\n",
       "      <th>order_value</th>\n",
       "      <th>order_discount</th>\n",
       "      <th>price_most_expensive_product_on_order</th>\n",
       "      <th>return_date</th>\n",
       "      <th>amount_returned</th>\n",
       "      <th>returned</th>\n",
       "    </tr>\n",
       "  </thead>\n",
       "  <tbody>\n",
       "    <tr>\n",
       "      <th>0</th>\n",
       "      <td>17</td>\n",
       "      <td>7</td>\n",
       "      <td>2</td>\n",
       "      <td>1978-11-09</td>\n",
       "      <td>2016-11-04</td>\n",
       "      <td>2</td>\n",
       "      <td>15</td>\n",
       "      <td>1</td>\n",
       "      <td>743_1_1</td>\n",
       "      <td>0</td>\n",
       "      <td>0</td>\n",
       "      <td>54</td>\n",
       "      <td>0</td>\n",
       "      <td>50</td>\n",
       "      <td>2016-11-22</td>\n",
       "      <td>54</td>\n",
       "      <td>1</td>\n",
       "    </tr>\n",
       "    <tr>\n",
       "      <th>1</th>\n",
       "      <td>56</td>\n",
       "      <td>10</td>\n",
       "      <td>1</td>\n",
       "      <td>NaT</td>\n",
       "      <td>2016-11-07</td>\n",
       "      <td>5</td>\n",
       "      <td>13</td>\n",
       "      <td>1</td>\n",
       "      <td>744_1_0</td>\n",
       "      <td>0</td>\n",
       "      <td>0</td>\n",
       "      <td>91</td>\n",
       "      <td>0</td>\n",
       "      <td>87</td>\n",
       "      <td>NaT</td>\n",
       "      <td>0</td>\n",
       "      <td>0</td>\n",
       "    </tr>\n",
       "    <tr>\n",
       "      <th>2</th>\n",
       "      <td>57</td>\n",
       "      <td>11</td>\n",
       "      <td>1</td>\n",
       "      <td>1971-06-12</td>\n",
       "      <td>2016-11-12</td>\n",
       "      <td>3</td>\n",
       "      <td>19</td>\n",
       "      <td>1</td>\n",
       "      <td>622_1_0</td>\n",
       "      <td>0</td>\n",
       "      <td>0</td>\n",
       "      <td>125</td>\n",
       "      <td>0</td>\n",
       "      <td>125</td>\n",
       "      <td>NaT</td>\n",
       "      <td>0</td>\n",
       "      <td>0</td>\n",
       "    </tr>\n",
       "    <tr>\n",
       "      <th>3</th>\n",
       "      <td>58</td>\n",
       "      <td>12</td>\n",
       "      <td>1</td>\n",
       "      <td>1989-08-30</td>\n",
       "      <td>2016-11-13</td>\n",
       "      <td>4</td>\n",
       "      <td>21</td>\n",
       "      <td>2</td>\n",
       "      <td>431_1_0,617_1_0</td>\n",
       "      <td>0</td>\n",
       "      <td>0</td>\n",
       "      <td>291</td>\n",
       "      <td>0</td>\n",
       "      <td>162</td>\n",
       "      <td>NaT</td>\n",
       "      <td>0</td>\n",
       "      <td>0</td>\n",
       "    </tr>\n",
       "    <tr>\n",
       "      <th>4</th>\n",
       "      <td>59</td>\n",
       "      <td>13</td>\n",
       "      <td>1</td>\n",
       "      <td>1995-11-17</td>\n",
       "      <td>2016-11-14</td>\n",
       "      <td>5</td>\n",
       "      <td>16</td>\n",
       "      <td>1</td>\n",
       "      <td>605_1_0</td>\n",
       "      <td>0</td>\n",
       "      <td>0</td>\n",
       "      <td>112</td>\n",
       "      <td>0</td>\n",
       "      <td>112</td>\n",
       "      <td>NaT</td>\n",
       "      <td>0</td>\n",
       "      <td>0</td>\n",
       "    </tr>\n",
       "  </tbody>\n",
       "</table>\n",
       "</div>"
      ],
      "text/plain": [
       "   order_ID  cust_ID  gender date_of_birth order_date  order_weekday  \\\n",
       "0        17        7       2    1978-11-09 2016-11-04              2   \n",
       "1        56       10       1           NaT 2016-11-07              5   \n",
       "2        57       11       1    1971-06-12 2016-11-12              3   \n",
       "3        58       12       1    1989-08-30 2016-11-13              4   \n",
       "4        59       13       1    1995-11-17 2016-11-14              5   \n",
       "\n",
       "   order_time  total_products_purchased_on_order   order_products  \\\n",
       "0          15                                  1          743_1_1   \n",
       "1          13                                  1          744_1_0   \n",
       "2          19                                  1          622_1_0   \n",
       "3          21                                  2  431_1_0,617_1_0   \n",
       "4          16                                  1          605_1_0   \n",
       "\n",
       "   order_has_different_sizes_of_same_product  \\\n",
       "0                                          0   \n",
       "1                                          0   \n",
       "2                                          0   \n",
       "3                                          0   \n",
       "4                                          0   \n",
       "\n",
       "   order_has_different_colours_of_same_product  order_value  order_discount  \\\n",
       "0                                            0           54               0   \n",
       "1                                            0           91               0   \n",
       "2                                            0          125               0   \n",
       "3                                            0          291               0   \n",
       "4                                            0          112               0   \n",
       "\n",
       "   price_most_expensive_product_on_order return_date  amount_returned  \\\n",
       "0                                     50  2016-11-22               54   \n",
       "1                                     87         NaT                0   \n",
       "2                                    125         NaT                0   \n",
       "3                                    162         NaT                0   \n",
       "4                                    112         NaT                0   \n",
       "\n",
       "   returned  \n",
       "0         1  \n",
       "1         0  \n",
       "2         0  \n",
       "3         0  \n",
       "4         0  "
      ]
     },
     "execution_count": 4,
     "metadata": {},
     "output_type": "execute_result"
    }
   ],
   "source": [
    "# Load the dataset \n",
    "df = pd.read_excel('return_data.xlsx')\n",
    "\n",
    "print(\"\\nFirst Few Rows of the Dataset:\")\n",
    "df.head()"
   ]
  },
  {
   "cell_type": "markdown",
   "id": "70a1c12c",
   "metadata": {},
   "source": [
    "## 1.2. Inspect the dataset's structure, size, and basic statistics\n",
    "\n"
   ]
  },
  {
   "cell_type": "code",
   "execution_count": 5,
   "id": "b3e921e5",
   "metadata": {},
   "outputs": [
    {
     "name": "stdout",
     "output_type": "stream",
     "text": [
      "Dataset Information:\n",
      "<class 'pandas.core.frame.DataFrame'>\n",
      "RangeIndex: 35119 entries, 0 to 35118\n",
      "Data columns (total 17 columns):\n",
      " #   Column                                       Non-Null Count  Dtype         \n",
      "---  ------                                       --------------  -----         \n",
      " 0   order_ID                                     35119 non-null  int64         \n",
      " 1   cust_ID                                      35119 non-null  int64         \n",
      " 2   gender                                       35119 non-null  int64         \n",
      " 3   date_of_birth                                3167 non-null   datetime64[ns]\n",
      " 4   order_date                                   35119 non-null  datetime64[ns]\n",
      " 5   order_weekday                                35119 non-null  int64         \n",
      " 6   order_time                                   35119 non-null  int64         \n",
      " 7   total_products_purchased_on_order            35119 non-null  int64         \n",
      " 8   order_products                               35119 non-null  object        \n",
      " 9   order_has_different_sizes_of_same_product    35119 non-null  int64         \n",
      " 10  order_has_different_colours_of_same_product  35119 non-null  int64         \n",
      " 11  order_value                                  35119 non-null  int64         \n",
      " 12  order_discount                               35119 non-null  int64         \n",
      " 13  price_most_expensive_product_on_order        35119 non-null  int64         \n",
      " 14  return_date                                  11820 non-null  datetime64[ns]\n",
      " 15  amount_returned                              35119 non-null  int64         \n",
      " 16  returned                                     35119 non-null  int64         \n",
      "dtypes: datetime64[ns](3), int64(13), object(1)\n",
      "memory usage: 4.6+ MB\n",
      "None\n"
     ]
    }
   ],
   "source": [
    "# Get information about the dataset structure\n",
    "print(\"Dataset Information:\")\n",
    "print(df.info())"
   ]
  },
  {
   "cell_type": "code",
   "execution_count": 6,
   "id": "27799e7f",
   "metadata": {},
   "outputs": [
    {
     "name": "stdout",
     "output_type": "stream",
     "text": [
      "\n",
      "Basic Statistics:\n"
     ]
    },
    {
     "data": {
      "text/html": [
       "<div>\n",
       "<style scoped>\n",
       "    .dataframe tbody tr th:only-of-type {\n",
       "        vertical-align: middle;\n",
       "    }\n",
       "\n",
       "    .dataframe tbody tr th {\n",
       "        vertical-align: top;\n",
       "    }\n",
       "\n",
       "    .dataframe thead th {\n",
       "        text-align: right;\n",
       "    }\n",
       "</style>\n",
       "<table border=\"1\" class=\"dataframe\">\n",
       "  <thead>\n",
       "    <tr style=\"text-align: right;\">\n",
       "      <th></th>\n",
       "      <th>order_ID</th>\n",
       "      <th>cust_ID</th>\n",
       "      <th>gender</th>\n",
       "      <th>order_weekday</th>\n",
       "      <th>order_time</th>\n",
       "      <th>total_products_purchased_on_order</th>\n",
       "      <th>order_has_different_sizes_of_same_product</th>\n",
       "      <th>order_has_different_colours_of_same_product</th>\n",
       "      <th>order_value</th>\n",
       "      <th>order_discount</th>\n",
       "      <th>price_most_expensive_product_on_order</th>\n",
       "      <th>amount_returned</th>\n",
       "      <th>returned</th>\n",
       "    </tr>\n",
       "  </thead>\n",
       "  <tbody>\n",
       "    <tr>\n",
       "      <th>count</th>\n",
       "      <td>35119.000000</td>\n",
       "      <td>35119.000000</td>\n",
       "      <td>35119.000000</td>\n",
       "      <td>35119.000000</td>\n",
       "      <td>35119.000000</td>\n",
       "      <td>35119.000000</td>\n",
       "      <td>35119.000000</td>\n",
       "      <td>35119.000000</td>\n",
       "      <td>35119.000000</td>\n",
       "      <td>35119.000000</td>\n",
       "      <td>35119.000000</td>\n",
       "      <td>35119.000000</td>\n",
       "      <td>35119.000000</td>\n",
       "    </tr>\n",
       "    <tr>\n",
       "      <th>mean</th>\n",
       "      <td>20523.345112</td>\n",
       "      <td>12489.624818</td>\n",
       "      <td>0.811527</td>\n",
       "      <td>4.007973</td>\n",
       "      <td>15.035081</td>\n",
       "      <td>1.797659</td>\n",
       "      <td>0.043054</td>\n",
       "      <td>0.086876</td>\n",
       "      <td>308.164868</td>\n",
       "      <td>2.044307</td>\n",
       "      <td>230.387967</td>\n",
       "      <td>346.666989</td>\n",
       "      <td>0.336570</td>\n",
       "    </tr>\n",
       "    <tr>\n",
       "      <th>std</th>\n",
       "      <td>11146.817145</td>\n",
       "      <td>7678.077607</td>\n",
       "      <td>0.522393</td>\n",
       "      <td>1.933631</td>\n",
       "      <td>5.647687</td>\n",
       "      <td>1.483725</td>\n",
       "      <td>0.202981</td>\n",
       "      <td>0.281657</td>\n",
       "      <td>285.701283</td>\n",
       "      <td>16.760278</td>\n",
       "      <td>170.180065</td>\n",
       "      <td>1696.828400</td>\n",
       "      <td>0.472543</td>\n",
       "    </tr>\n",
       "    <tr>\n",
       "      <th>min</th>\n",
       "      <td>17.000000</td>\n",
       "      <td>7.000000</td>\n",
       "      <td>0.000000</td>\n",
       "      <td>1.000000</td>\n",
       "      <td>0.000000</td>\n",
       "      <td>1.000000</td>\n",
       "      <td>0.000000</td>\n",
       "      <td>0.000000</td>\n",
       "      <td>0.000000</td>\n",
       "      <td>0.000000</td>\n",
       "      <td>0.000000</td>\n",
       "      <td>0.000000</td>\n",
       "      <td>0.000000</td>\n",
       "    </tr>\n",
       "    <tr>\n",
       "      <th>25%</th>\n",
       "      <td>11097.500000</td>\n",
       "      <td>5564.500000</td>\n",
       "      <td>1.000000</td>\n",
       "      <td>2.000000</td>\n",
       "      <td>11.000000</td>\n",
       "      <td>1.000000</td>\n",
       "      <td>0.000000</td>\n",
       "      <td>0.000000</td>\n",
       "      <td>125.000000</td>\n",
       "      <td>0.000000</td>\n",
       "      <td>100.000000</td>\n",
       "      <td>0.000000</td>\n",
       "      <td>0.000000</td>\n",
       "    </tr>\n",
       "    <tr>\n",
       "      <th>50%</th>\n",
       "      <td>21047.000000</td>\n",
       "      <td>12380.000000</td>\n",
       "      <td>1.000000</td>\n",
       "      <td>4.000000</td>\n",
       "      <td>16.000000</td>\n",
       "      <td>1.000000</td>\n",
       "      <td>0.000000</td>\n",
       "      <td>0.000000</td>\n",
       "      <td>231.000000</td>\n",
       "      <td>0.000000</td>\n",
       "      <td>188.000000</td>\n",
       "      <td>0.000000</td>\n",
       "      <td>0.000000</td>\n",
       "    </tr>\n",
       "    <tr>\n",
       "      <th>75%</th>\n",
       "      <td>30075.500000</td>\n",
       "      <td>18714.500000</td>\n",
       "      <td>1.000000</td>\n",
       "      <td>6.000000</td>\n",
       "      <td>20.000000</td>\n",
       "      <td>2.000000</td>\n",
       "      <td>0.000000</td>\n",
       "      <td>0.000000</td>\n",
       "      <td>393.000000</td>\n",
       "      <td>0.000000</td>\n",
       "      <td>300.000000</td>\n",
       "      <td>188.000000</td>\n",
       "      <td>1.000000</td>\n",
       "    </tr>\n",
       "    <tr>\n",
       "      <th>max</th>\n",
       "      <td>39221.000000</td>\n",
       "      <td>26991.000000</td>\n",
       "      <td>2.000000</td>\n",
       "      <td>7.000000</td>\n",
       "      <td>23.000000</td>\n",
       "      <td>41.000000</td>\n",
       "      <td>1.000000</td>\n",
       "      <td>1.000000</td>\n",
       "      <td>6445.000000</td>\n",
       "      <td>1006.000000</td>\n",
       "      <td>3198.000000</td>\n",
       "      <td>90416.000000</td>\n",
       "      <td>1.000000</td>\n",
       "    </tr>\n",
       "  </tbody>\n",
       "</table>\n",
       "</div>"
      ],
      "text/plain": [
       "           order_ID       cust_ID        gender  order_weekday    order_time  \\\n",
       "count  35119.000000  35119.000000  35119.000000   35119.000000  35119.000000   \n",
       "mean   20523.345112  12489.624818      0.811527       4.007973     15.035081   \n",
       "std    11146.817145   7678.077607      0.522393       1.933631      5.647687   \n",
       "min       17.000000      7.000000      0.000000       1.000000      0.000000   \n",
       "25%    11097.500000   5564.500000      1.000000       2.000000     11.000000   \n",
       "50%    21047.000000  12380.000000      1.000000       4.000000     16.000000   \n",
       "75%    30075.500000  18714.500000      1.000000       6.000000     20.000000   \n",
       "max    39221.000000  26991.000000      2.000000       7.000000     23.000000   \n",
       "\n",
       "       total_products_purchased_on_order  \\\n",
       "count                       35119.000000   \n",
       "mean                            1.797659   \n",
       "std                             1.483725   \n",
       "min                             1.000000   \n",
       "25%                             1.000000   \n",
       "50%                             1.000000   \n",
       "75%                             2.000000   \n",
       "max                            41.000000   \n",
       "\n",
       "       order_has_different_sizes_of_same_product  \\\n",
       "count                               35119.000000   \n",
       "mean                                    0.043054   \n",
       "std                                     0.202981   \n",
       "min                                     0.000000   \n",
       "25%                                     0.000000   \n",
       "50%                                     0.000000   \n",
       "75%                                     0.000000   \n",
       "max                                     1.000000   \n",
       "\n",
       "       order_has_different_colours_of_same_product   order_value  \\\n",
       "count                                 35119.000000  35119.000000   \n",
       "mean                                      0.086876    308.164868   \n",
       "std                                       0.281657    285.701283   \n",
       "min                                       0.000000      0.000000   \n",
       "25%                                       0.000000    125.000000   \n",
       "50%                                       0.000000    231.000000   \n",
       "75%                                       0.000000    393.000000   \n",
       "max                                       1.000000   6445.000000   \n",
       "\n",
       "       order_discount  price_most_expensive_product_on_order  amount_returned  \\\n",
       "count    35119.000000                           35119.000000     35119.000000   \n",
       "mean         2.044307                             230.387967       346.666989   \n",
       "std         16.760278                             170.180065      1696.828400   \n",
       "min          0.000000                               0.000000         0.000000   \n",
       "25%          0.000000                             100.000000         0.000000   \n",
       "50%          0.000000                             188.000000         0.000000   \n",
       "75%          0.000000                             300.000000       188.000000   \n",
       "max       1006.000000                            3198.000000     90416.000000   \n",
       "\n",
       "           returned  \n",
       "count  35119.000000  \n",
       "mean       0.336570  \n",
       "std        0.472543  \n",
       "min        0.000000  \n",
       "25%        0.000000  \n",
       "50%        0.000000  \n",
       "75%        1.000000  \n",
       "max        1.000000  "
      ]
     },
     "execution_count": 6,
     "metadata": {},
     "output_type": "execute_result"
    }
   ],
   "source": [
    "# Get basic statistics of numerical columns\n",
    "print(\"\\nBasic Statistics:\")\n",
    "df.describe()"
   ]
  },
  {
   "cell_type": "markdown",
   "id": "91ea636a",
   "metadata": {},
   "source": [
    "## 1.3 Further Inspection"
   ]
  },
  {
   "cell_type": "markdown",
   "id": "40311bca",
   "metadata": {},
   "source": [
    "### 1.3.1 Check for missing values"
   ]
  },
  {
   "cell_type": "code",
   "execution_count": 7,
   "id": "7c0d6993",
   "metadata": {},
   "outputs": [
    {
     "name": "stdout",
     "output_type": "stream",
     "text": [
      "\n",
      "Missing Values:\n",
      "order_ID                                           0\n",
      "cust_ID                                            0\n",
      "gender                                             0\n",
      "date_of_birth                                  31952\n",
      "order_date                                         0\n",
      "order_weekday                                      0\n",
      "order_time                                         0\n",
      "total_products_purchased_on_order                  0\n",
      "order_products                                     0\n",
      "order_has_different_sizes_of_same_product          0\n",
      "order_has_different_colours_of_same_product        0\n",
      "order_value                                        0\n",
      "order_discount                                     0\n",
      "price_most_expensive_product_on_order              0\n",
      "return_date                                    23299\n",
      "amount_returned                                    0\n",
      "returned                                           0\n",
      "dtype: int64\n"
     ]
    }
   ],
   "source": [
    "missing_values = df.isnull().sum()\n",
    "print(\"\\nMissing Values:\")\n",
    "print(missing_values)"
   ]
  },
  {
   "cell_type": "markdown",
   "id": "0aac5f60",
   "metadata": {},
   "source": [
    "### 1.3.2 Count unique values in categorical columns"
   ]
  },
  {
   "cell_type": "code",
   "execution_count": 8,
   "id": "1c65baeb",
   "metadata": {},
   "outputs": [
    {
     "name": "stdout",
     "output_type": "stream",
     "text": [
      "\n",
      "Unique Values in Categorical Columns:\n",
      "order_products: 13216 unique values\n"
     ]
    }
   ],
   "source": [
    "categorical_columns = df.select_dtypes(include=['object']).columns\n",
    "print(\"\\nUnique Values in Categorical Columns:\")\n",
    "for column in categorical_columns:\n",
    "    print(f\"{column}: {df[column].nunique()} unique values\")"
   ]
  },
  {
   "cell_type": "markdown",
   "id": "0c780a2b",
   "metadata": {},
   "source": [
    "### 1.3.3 Visualize data distributions (histograms for numerical, bar plots for categorical)"
   ]
  },
  {
   "cell_type": "code",
   "execution_count": 9,
   "id": "37b07ac7",
   "metadata": {},
   "outputs": [],
   "source": [
    "import matplotlib.pyplot as plt\n",
    "import seaborn as sns"
   ]
  },
  {
   "cell_type": "code",
   "execution_count": 10,
   "id": "e9ac44f4",
   "metadata": {},
   "outputs": [
    {
     "data": {
      "image/png": "[encoded data removed]",
      "text/plain": [
       "<Figure size 576x288 with 1 Axes>"
      ]
     },
     "metadata": {
      "needs_background": "light"
     },
     "output_type": "display_data"
    },
    {
     "data": {
      "image/png": "[encoded data removed]",
      "text/plain": [
       "<Figure size 576x288 with 1 Axes>"
      ]
     },
     "metadata": {
      "needs_background": "light"
     },
     "output_type": "display_data"
    },
    {
     "data": {
      "image/png": "[encoded data removed]",
      "text/plain": [
       "<Figure size 576x288 with 1 Axes>"
      ]
     },
     "metadata": {
      "needs_background": "light"
     },
     "output_type": "display_data"
    },
    {
     "data": {
      "image/png": "[encoded data removed]",
      "text/plain": [
       "<Figure size 576x288 with 1 Axes>"
      ]
     },
     "metadata": {
      "needs_background": "light"
     },
     "output_type": "display_data"
    }
   ],
   "source": [
    "# Numerical columns    \n",
    "numerical_columns_to_plot = ['order_weekday', 'order_time', 'total_products_purchased_on_order', 'order_value', ]\n",
    "\n",
    "for column in numerical_columns_to_plot:\n",
    "    plt.figure(figsize=(8, 4))\n",
    "    sns.histplot(df[column], kde=True)\n",
    "    plt.title(f'Distribution of {column}')\n",
    "    plt.show()\n"
   ]
  },
  {
   "cell_type": "markdown",
   "id": "ce2cb188",
   "metadata": {},
   "source": [
    "### Gender distribution"
   ]
  },
  {
   "cell_type": "code",
   "execution_count": 11,
   "id": "9d520f17",
   "metadata": {},
   "outputs": [
    {
     "data": {
      "image/png": "[encoded data removed]",
      "text/plain": [
       "<Figure size 576x288 with 1 Axes>"
      ]
     },
     "metadata": {
      "needs_background": "light"
     },
     "output_type": "display_data"
    }
   ],
   "source": [
    "# Create a custom mapping for gender values\n",
    "gender_mapping = {0: 'Unknown', 1: 'Male', 2: 'Female'}\n",
    "\n",
    "# Map the 'gender' column to the custom labels\n",
    "df['gender_label'] = df['gender'].map(gender_mapping)\n",
    "\n",
    "# Specify the column for plotting\n",
    "categorical_column = 'gender_label'\n",
    "\n",
    "# Plot the count of gender labels\n",
    "plt.figure(figsize=(8, 4))\n",
    "sns.countplot(data=df, x=categorical_column)\n",
    "plt.title(f'Count of {categorical_column}')\n",
    "plt.show()\n",
    "\n",
    "\n",
    "df.drop('gender_label', axis=1, inplace=True)"
   ]
  },
  {
   "cell_type": "markdown",
   "id": "13912790",
   "metadata": {},
   "source": [
    "# Step 2: Data Preprocessing\n",
    "\n"
   ]
  },
  {
   "cell_type": "markdown",
   "id": "571f7915",
   "metadata": {},
   "source": [
    "## 2.1. Handle Missing Data:"
   ]
  },
  {
   "cell_type": "markdown",
   "id": "d6fb22b0",
   "metadata": {},
   "source": [
    "### 2.1.1: Check for missing values in each column"
   ]
  },
  {
   "cell_type": "code",
   "execution_count": 12,
   "id": "28b584cf",
   "metadata": {},
   "outputs": [
    {
     "name": "stdout",
     "output_type": "stream",
     "text": [
      "Missing Values:\n",
      "order_ID                                           0\n",
      "cust_ID                                            0\n",
      "gender                                             0\n",
      "date_of_birth                                  31952\n",
      "order_date                                         0\n",
      "order_weekday                                      0\n",
      "order_time                                         0\n",
      "total_products_purchased_on_order                  0\n",
      "order_products                                     0\n",
      "order_has_different_sizes_of_same_product          0\n",
      "order_has_different_colours_of_same_product        0\n",
      "order_value                                        0\n",
      "order_discount                                     0\n",
      "price_most_expensive_product_on_order              0\n",
      "return_date                                    23299\n",
      "amount_returned                                    0\n",
      "returned                                           0\n",
      "dtype: int64\n"
     ]
    }
   ],
   "source": [
    "missing_values = df.isnull().sum()\n",
    "print(\"Missing Values:\")\n",
    "print(missing_values)"
   ]
  },
  {
   "cell_type": "markdown",
   "id": "9299cd21",
   "metadata": {},
   "source": [
    "### Step 2.1.2: Handle Missing Data (Leaving Missing Values As-Is)\n"
   ]
  },
  {
   "cell_type": "markdown",
   "id": "33707dd4",
   "metadata": {},
   "source": [
    "#### date_of_birth  Missing Values"
   ]
  },
  {
   "cell_type": "markdown",
   "id": "7fc3ef37",
   "metadata": {},
   "source": [
    "We have chosen to leave missing values as-is in the dataset for now. The number of missing values of date_of_birth is very\n",
    "high (31952) compared to the total number of rows(35119). Imputing or removing them may introduce bias or distort the data. \n",
    "We will not be using this feature in our models in this stage of work."
   ]
  },
  {
   "cell_type": "markdown",
   "id": "ea2cfccd",
   "metadata": {},
   "source": [
    "#### return_date Missing Values "
   ]
  },
  {
   "cell_type": "code",
   "execution_count": 13,
   "id": "db707dcd",
   "metadata": {},
   "outputs": [
    {
     "name": "stdout",
     "output_type": "stream",
     "text": [
      "The number of returned products is:  11820 And the Number of missing values in 'return_date' column is: 23299\n"
     ]
    }
   ],
   "source": [
    "total_returned = df['returned'].sum()\n",
    "missing_values = df['return_date'].isna().sum()\n",
    "print(\"The number of returned products is: \", total_returned, \"And the Number of missing values in 'return_date' column is:\", missing_values)\n"
   ]
  },
  {
   "cell_type": "markdown",
   "id": "391889b8",
   "metadata": {},
   "source": [
    "35119 (total number of orders) - 23299 (missing values in 'return_date' column) = 11820\n",
    "=> The number of missing values in return_date column is valid"
   ]
  },
  {
   "cell_type": "code",
   "execution_count": 14,
   "id": "1f8ca7cd",
   "metadata": {},
   "outputs": [
    {
     "data": {
      "text/plain": [
       "Index(['order_ID', 'cust_ID', 'gender', 'date_of_birth', 'order_date',\n",
       "       'order_weekday', 'order_time', 'total_products_purchased_on_order',\n",
       "       'order_products', 'order_has_different_sizes_of_same_product',\n",
       "       'order_has_different_colours_of_same_product', 'order_value',\n",
       "       'order_discount', 'price_most_expensive_product_on_order',\n",
       "       'return_date', 'amount_returned', 'returned'],\n",
       "      dtype='object')"
      ]
     },
     "execution_count": 14,
     "metadata": {},
     "output_type": "execute_result"
    }
   ],
   "source": [
    "df.columns"
   ]
  },
  {
   "cell_type": "markdown",
   "id": "5c805501",
   "metadata": {},
   "source": [
    "## Step 2.2: Convert Date Columns to Datetime Objects"
   ]
  },
  {
   "cell_type": "code",
   "execution_count": 15,
   "id": "e0f2c31a",
   "metadata": {},
   "outputs": [
    {
     "name": "stdout",
     "output_type": "stream",
     "text": [
      "\n",
      "Updated Dataset Information after Converting Date Columns:\n",
      "<class 'pandas.core.frame.DataFrame'>\n",
      "RangeIndex: 35119 entries, 0 to 35118\n",
      "Data columns (total 17 columns):\n",
      " #   Column                                       Non-Null Count  Dtype         \n",
      "---  ------                                       --------------  -----         \n",
      " 0   order_ID                                     35119 non-null  int64         \n",
      " 1   cust_ID                                      35119 non-null  int64         \n",
      " 2   gender                                       35119 non-null  int64         \n",
      " 3   date_of_birth                                3167 non-null   datetime64[ns]\n",
      " 4   order_date                                   35119 non-null  datetime64[ns]\n",
      " 5   order_weekday                                35119 non-null  int64         \n",
      " 6   order_time                                   35119 non-null  int64         \n",
      " 7   total_products_purchased_on_order            35119 non-null  int64         \n",
      " 8   order_products                               35119 non-null  object        \n",
      " 9   order_has_different_sizes_of_same_product    35119 non-null  int64         \n",
      " 10  order_has_different_colours_of_same_product  35119 non-null  int64         \n",
      " 11  order_value                                  35119 non-null  int64         \n",
      " 12  order_discount                               35119 non-null  int64         \n",
      " 13  price_most_expensive_product_on_order        35119 non-null  int64         \n",
      " 14  return_date                                  11820 non-null  datetime64[ns]\n",
      " 15  amount_returned                              35119 non-null  int64         \n",
      " 16  returned                                     35119 non-null  int64         \n",
      "dtypes: datetime64[ns](3), int64(13), object(1)\n",
      "memory usage: 4.6+ MB\n",
      "None\n"
     ]
    }
   ],
   "source": [
    "# List of date columns to convert\n",
    "date_columns = ['date_of_birth', 'order_date', 'return_date']\n",
    "\n",
    "# Loop through date columns and convert them to datetime objects\n",
    "for column in date_columns:\n",
    "    df[column] = pd.to_datetime(df[column], errors='coerce')\n",
    "\n",
    "# Verify the data type conversion\n",
    "print(\"\\nUpdated Dataset Information after Converting Date Columns:\")\n",
    "print(df.info())\n"
   ]
  },
  {
   "cell_type": "markdown",
   "id": "58f08697",
   "metadata": {},
   "source": [
    "## Step 2.3: Split order_products into separate features"
   ]
  },
  {
   "cell_type": "markdown",
   "id": "1c449ea4",
   "metadata": {},
   "source": [
    "We will  split order_products into seperate features ('product_id', 'items_purchased', 'items_returned'). This transformation enhances the granularity of our data and we can perform various operations on these new columns independently.\n",
    "\n",
    "Product_id might be a potential feature to be used in our models"
   ]
  },
  {
   "cell_type": "code",
   "execution_count": 16,
   "id": "dccc3abc",
   "metadata": {},
   "outputs": [
    {
     "data": {
      "text/html": [
       "<div>\n",
       "<style scoped>\n",
       "    .dataframe tbody tr th:only-of-type {\n",
       "        vertical-align: middle;\n",
       "    }\n",
       "\n",
       "    .dataframe tbody tr th {\n",
       "        vertical-align: top;\n",
       "    }\n",
       "\n",
       "    .dataframe thead th {\n",
       "        text-align: right;\n",
       "    }\n",
       "</style>\n",
       "<table border=\"1\" class=\"dataframe\">\n",
       "  <thead>\n",
       "    <tr style=\"text-align: right;\">\n",
       "      <th></th>\n",
       "      <th>order_ID</th>\n",
       "      <th>product_id</th>\n",
       "      <th>items_purchased</th>\n",
       "      <th>items_returned</th>\n",
       "    </tr>\n",
       "  </thead>\n",
       "  <tbody>\n",
       "    <tr>\n",
       "      <th>0</th>\n",
       "      <td>17</td>\n",
       "      <td>743</td>\n",
       "      <td>1</td>\n",
       "      <td>1</td>\n",
       "    </tr>\n",
       "    <tr>\n",
       "      <th>1</th>\n",
       "      <td>56</td>\n",
       "      <td>744</td>\n",
       "      <td>1</td>\n",
       "      <td>0</td>\n",
       "    </tr>\n",
       "    <tr>\n",
       "      <th>2</th>\n",
       "      <td>57</td>\n",
       "      <td>622</td>\n",
       "      <td>1</td>\n",
       "      <td>0</td>\n",
       "    </tr>\n",
       "    <tr>\n",
       "      <th>3</th>\n",
       "      <td>58</td>\n",
       "      <td>431</td>\n",
       "      <td>1</td>\n",
       "      <td>0</td>\n",
       "    </tr>\n",
       "    <tr>\n",
       "      <th>4</th>\n",
       "      <td>58</td>\n",
       "      <td>617</td>\n",
       "      <td>1</td>\n",
       "      <td>0</td>\n",
       "    </tr>\n",
       "  </tbody>\n",
       "</table>\n",
       "</div>"
      ],
      "text/plain": [
       "   order_ID  product_id  items_purchased  items_returned\n",
       "0        17         743                1               1\n",
       "1        56         744                1               0\n",
       "2        57         622                1               0\n",
       "3        58         431                1               0\n",
       "4        58         617                1               0"
      ]
     },
     "execution_count": 16,
     "metadata": {},
     "output_type": "execute_result"
    }
   ],
   "source": [
    "rows = []\n",
    "# Iterate through each row in the original DataFrame\n",
    "for _, row in df.iterrows():\n",
    "    order_products = row['order_products'].split(',') \n",
    "    order_id = row['order_ID']  # Retrieve the order_ID from the original DataFrame (key will be used for feature df joins)\n",
    "    for order_product in order_products:\n",
    "        parts = order_product.split('_')\n",
    "        if len(parts) == 3:\n",
    "            product_id, items_purchased, items_returned = map(int, parts)\n",
    "            rows.append([order_id, product_id, items_purchased, items_returned])\n",
    "\n",
    "# Create a new DataFrame from the list of rows\n",
    "order_products_df = pd.DataFrame(rows, columns=['order_ID', 'product_id', 'items_purchased', 'items_returned'])\n",
    "\n",
    "\n",
    "order_products_df.head()\n"
   ]
  },
  {
   "cell_type": "code",
   "execution_count": 17,
   "id": "837b8566",
   "metadata": {},
   "outputs": [
    {
     "data": {
      "text/plain": [
       "Index(['order_ID', 'cust_ID', 'gender', 'date_of_birth', 'order_date',\n",
       "       'order_weekday', 'order_time', 'total_products_purchased_on_order',\n",
       "       'order_products', 'order_has_different_sizes_of_same_product',\n",
       "       'order_has_different_colours_of_same_product', 'order_value',\n",
       "       'order_discount', 'price_most_expensive_product_on_order',\n",
       "       'return_date', 'amount_returned', 'returned', 'product_id',\n",
       "       'items_purchased', 'items_returned'],\n",
       "      dtype='object')"
      ]
     },
     "execution_count": 17,
     "metadata": {},
     "output_type": "execute_result"
    }
   ],
   "source": [
    "# Merge the 'order_products_df' with the main DataFrame 'df' based on 'order_ID'\n",
    "df = pd.merge(df, order_products_df, on='order_ID', how='left')\n",
    "df.columns"
   ]
  },
  {
   "cell_type": "markdown",
   "id": "9c76cd00",
   "metadata": {},
   "source": [
    "## 2.4. Convert Categorical Variables:"
   ]
  },
  {
   "cell_type": "code",
   "execution_count": 18,
   "id": "2169f89e",
   "metadata": {},
   "outputs": [],
   "source": [
    "# Perform one-hot encoding for the 'gender' variable\n",
    "df = pd.get_dummies(df, columns=['gender'], prefix='gender', drop_first=True)\n",
    "df.rename(columns={'gender_1': 'gender_1_M'}, inplace=True)\n",
    "df.rename(columns={'gender_2': 'gender_1_F'}, inplace=True)\n",
    "\n"
   ]
  },
  {
   "cell_type": "markdown",
   "id": "bcafd3f8",
   "metadata": {},
   "source": [
    "We transformed 'gender' into binary columns (e.g., 'gender_Male' and 'gender_Female'), allowing us to represent each category independently. "
   ]
  },
  {
   "cell_type": "markdown",
   "id": "839d5aaf",
   "metadata": {},
   "source": [
    "\n",
    "# Step 3: Data Analysis and Visualization\n",
    "## Step 3.1: Explore the Distribution of Returns"
   ]
  },
  {
   "cell_type": "markdown",
   "id": "28ff17d1",
   "metadata": {},
   "source": [
    "### 3.1.1. Explore Returns by Gender (Bar Plot):"
   ]
  },
  {
   "cell_type": "code",
   "execution_count": 19,
   "id": "1d5dc3f8",
   "metadata": {},
   "outputs": [
    {
     "data": {
      "image/png": "[encoded data removed]",
      "text/plain": [
       "<Figure size 576x432 with 1 Axes>"
      ]
     },
     "metadata": {
      "needs_background": "light"
     },
     "output_type": "display_data"
    }
   ],
   "source": [
    "# Bar plot for returns by gender\n",
    "plt.figure(figsize=(8, 6))\n",
    "sns.countplot(data=df, x='gender_1_M', hue='returned')\n",
    "plt.title('Returns by Gender')\n",
    "plt.xlabel('Gender')\n",
    "plt.ylabel('Count')\n",
    "plt.legend(title='Returned', labels=['No', 'Yes'])\n",
    "plt.xticks([0, 1], ['Male', 'Female'])  # Rename x-axis labels\n",
    "plt.show()\n"
   ]
  },
  {
   "cell_type": "markdown",
   "id": "3a0a4605",
   "metadata": {},
   "source": [
    "### 3.1.2. Explore Returns by Weekday (Bar Plot):"
   ]
  },
  {
   "cell_type": "code",
   "execution_count": 20,
   "id": "d87e4f6c",
   "metadata": {},
   "outputs": [
    {
     "data": {
      "image/png": "[encoded data removed]",
      "text/plain": [
       "<Figure size 720x432 with 1 Axes>"
      ]
     },
     "metadata": {
      "needs_background": "light"
     },
     "output_type": "display_data"
    }
   ],
   "source": [
    "# Bar plot for returns by weekday\n",
    "plt.figure(figsize=(10, 6))\n",
    "sns.countplot(data=df, x='order_weekday', hue='returned')\n",
    "plt.title('Returns by Weekday')\n",
    "plt.xlabel('Order Weekday')\n",
    "plt.ylabel('Count')\n",
    "plt.legend(title='Returned', labels=['No', 'Yes'])\n",
    "plt.show()\n"
   ]
  },
  {
   "cell_type": "markdown",
   "id": "f2d9c38a",
   "metadata": {},
   "source": [
    "### 3.1.3. Explore Returns by Time (Bar Plot):"
   ]
  },
  {
   "cell_type": "code",
   "execution_count": 21,
   "id": "52afebc5",
   "metadata": {},
   "outputs": [
    {
     "data": {
      "image/png": "[encoded data removed]",
      "text/plain": [
       "<Figure size 720x432 with 1 Axes>"
      ]
     },
     "metadata": {
      "needs_background": "light"
     },
     "output_type": "display_data"
    }
   ],
   "source": [
    "# Bar plot for returns by order time\n",
    "plt.figure(figsize=(10, 6))\n",
    "sns.countplot(data=df, x='order_time', hue='returned')\n",
    "plt.title('Returns by Order Time')\n",
    "plt.xlabel('Order Time')\n",
    "plt.ylabel('Count')\n",
    "plt.legend(title='Returned', labels=['No', 'Yes'])\n",
    "plt.xticks(rotation=90)\n",
    "plt.show()\n"
   ]
  },
  {
   "cell_type": "markdown",
   "id": "fb028b01",
   "metadata": {},
   "source": [
    "# Step 4: Feature Selection and Engineering"
   ]
  },
  {
   "cell_type": "markdown",
   "id": "9ed60d2d",
   "metadata": {},
   "source": [
    "## 4.1. Select relevant features for predictive modeling"
   ]
  },
  {
   "cell_type": "code",
   "execution_count": 22,
   "id": "e375549b",
   "metadata": {},
   "outputs": [
    {
     "name": "stdout",
     "output_type": "stream",
     "text": [
      "returned                                       1.000000\n",
      "items_returned                                 0.742681\n",
      "amount_returned                                0.293016\n",
      "order_value                                    0.289789\n",
      "order_has_different_sizes_of_same_product      0.258421\n",
      "total_products_purchased_on_order              0.233568\n",
      "price_most_expensive_product_on_order          0.126706\n",
      "order_has_different_colours_of_same_product    0.114763\n",
      "items_purchased                                0.099325\n",
      "order_ID                                       0.096200\n",
      "product_id                                     0.095076\n",
      "cust_ID                                        0.044139\n",
      "gender_1_M                                     0.038001\n",
      "gender_1_F                                     0.037261\n",
      "order_time                                     0.021003\n",
      "order_discount                                 0.006677\n",
      "order_weekday                                  0.003868\n",
      "Name: returned, dtype: float64\n"
     ]
    },
    {
     "data": {
      "image/png": "[encoded data removed]",
      "text/plain": [
       "<Figure size 720x432 with 1 Axes>"
      ]
     },
     "metadata": {
      "needs_background": "light"
     },
     "output_type": "display_data"
    }
   ],
   "source": [
    "# Calculate the correlation between each feature and the target variable ('returned' in this case)\n",
    "correlations = df.corr()['returned'].abs().sort_values(ascending=False)\n",
    "print(correlations)\n",
    "\n",
    "\n",
    "# Calculate the correlation between each feature and the target variable ('returned')\n",
    "correlations = df.corr()['returned'].drop('returned').abs().sort_values(ascending=False)\n",
    "\n",
    "# Plot the correlations \n",
    "plt.figure(figsize=(10, 6))\n",
    "ax = correlations.plot(kind='bar')\n",
    "plt.title('Correlations with Target (returned)')\n",
    "plt.xlabel('Features')\n",
    "plt.ylabel('Absolute Correlation')\n",
    "plt.ylim(0, 1)  # Set y-axis limits\n",
    "\n",
    "for i, v in enumerate(correlations):\n",
    "    ax.text(i, v, f'{v:.3f}', ha='center', va='bottom')\n",
    "\n",
    "plt.show()\n"
   ]
  },
  {
   "cell_type": "markdown",
   "id": "64b26bb7",
   "metadata": {},
   "source": [
    "Here we calculate the correlation between each feature and the target variable (\"returned\") and sorts the features in descending order of correlation."
   ]
  },
  {
   "cell_type": "markdown",
   "id": "2422d929",
   "metadata": {},
   "source": [
    "### 4.1.1 Select Features with threshold = 0.02"
   ]
  },
  {
   "cell_type": "code",
   "execution_count": 23,
   "id": "46caa020",
   "metadata": {},
   "outputs": [
    {
     "name": "stdout",
     "output_type": "stream",
     "text": [
      "['order_has_different_sizes_of_same_product', 'total_products_purchased_on_order', 'price_most_expensive_product_on_order', 'order_has_different_colours_of_same_product', 'items_purchased', 'product_id', 'cust_ID', 'gender_1_M', 'gender_1_F', 'order_time']\n"
     ]
    }
   ],
   "source": [
    "# Set the correlation threshold\n",
    "correlation_threshold = 0.02\n",
    "\n",
    "# Select features with correlation above the threshold\n",
    "selected_features = correlations[correlations > correlation_threshold].index\n",
    "\n",
    "# Remove specific features from selected_features\n",
    "features_to_remove = [\"items_returned\", \"amount_returned\", \"order_ID\", \"order_value\"]\n",
    "selected_features = [feature for feature in selected_features if feature not in features_to_remove]\n",
    "\n",
    "print(selected_features)\n"
   ]
  },
  {
   "cell_type": "markdown",
   "id": "d1292044",
   "metadata": {},
   "source": [
    "While many features exhibit relatively low correlations with the target variable 'returned,' we have opted to retain them in the feature set. These features, while individually not highly correlated, can still contribute valuable information when considered collectively. We have chosen correlation_threshold = 0.02. The choice is subjective at this stage.\n",
    "Additionally, certain features such as 'items_returned,' 'amount_returned,' and 'order_ID' are removed due to their limited contribution to the predictive model and potential multicollinearity issues."
   ]
  },
  {
   "cell_type": "code",
   "execution_count": 24,
   "id": "df186d36",
   "metadata": {},
   "outputs": [
    {
     "data": {
      "text/plain": [
       "Index(['order_has_different_sizes_of_same_product',\n",
       "       'total_products_purchased_on_order',\n",
       "       'price_most_expensive_product_on_order',\n",
       "       'order_has_different_colours_of_same_product', 'items_purchased',\n",
       "       'product_id', 'cust_ID', 'gender_1_M', 'gender_1_F', 'order_time'],\n",
       "      dtype='object')"
      ]
     },
     "execution_count": 24,
     "metadata": {},
     "output_type": "execute_result"
    }
   ],
   "source": [
    "# Subset the DataFrame with selected features\n",
    "df_selected = df[selected_features]\n",
    "df_selected.columns"
   ]
  },
  {
   "cell_type": "markdown",
   "id": "d84a8573",
   "metadata": {},
   "source": [
    "## 4.2 Feature Engineering"
   ]
  },
  {
   "cell_type": "markdown",
   "id": "f15018d3",
   "metadata": {},
   "source": [
    "We will apply feature engineering to create new meaningful features that can capture hidden patterns and relationships in the data, enhancing the predictive power of our model and providing deeper insights into the factors influencing returns.\n",
    "We will calculate Product return rate.\n",
    "\n",
    "\n",
    "\n",
    "\n",
    "\n"
   ]
  },
  {
   "cell_type": "code",
   "execution_count": 25,
   "id": "6e9bdc1d",
   "metadata": {},
   "outputs": [
    {
     "data": {
      "text/plain": [
       "Index(['order_has_different_sizes_of_same_product',\n",
       "       'total_products_purchased_on_order',\n",
       "       'price_most_expensive_product_on_order',\n",
       "       'order_has_different_colours_of_same_product', 'items_purchased',\n",
       "       'product_id', 'cust_ID', 'gender_1_M', 'gender_1_F', 'order_time'],\n",
       "      dtype='object')"
      ]
     },
     "execution_count": 25,
     "metadata": {},
     "output_type": "execute_result"
    }
   ],
   "source": [
    "df_selected.columns"
   ]
  },
  {
   "cell_type": "code",
   "execution_count": 26,
   "id": "ee8a1507",
   "metadata": {},
   "outputs": [
    {
     "data": {
      "text/plain": [
       "Index(['order_has_different_sizes_of_same_product',\n",
       "       'total_products_purchased_on_order',\n",
       "       'price_most_expensive_product_on_order',\n",
       "       'order_has_different_colours_of_same_product', 'items_purchased',\n",
       "       'product_id', 'cust_ID', 'gender_1_M', 'gender_1_F', 'order_time',\n",
       "       'returned'],\n",
       "      dtype='object')"
      ]
     },
     "execution_count": 26,
     "metadata": {},
     "output_type": "execute_result"
    }
   ],
   "source": [
    "# Merge 'df' with 'df_selected' to add the 'returned' column\n",
    "df_selected = df_selected.merge(df[['product_id', 'returned']], on='product_id', how='left')\n",
    "df_selected.columns"
   ]
  },
  {
   "cell_type": "code",
   "execution_count": 27,
   "id": "4ccaa35c",
   "metadata": {},
   "outputs": [],
   "source": [
    "# Calculate product return rate\n",
    "product_return_rate = df_selected.groupby('product_id')['returned'].mean().reset_index()\n",
    "product_return_rate.rename(columns={'returned': 'product_return_rate'}, inplace=True)"
   ]
  },
  {
   "cell_type": "markdown",
   "id": "8168f300",
   "metadata": {},
   "source": [
    "# Step 5: Splitting the Dataset"
   ]
  },
  {
   "cell_type": "markdown",
   "id": "65f4fd3b",
   "metadata": {},
   "source": [
    "Here we are splitting the dataset into training and testing sets for model evaluation. 70:30 split ratio: 70% for training and 30% for testing."
   ]
  },
  {
   "cell_type": "code",
   "execution_count": 28,
   "id": "61aaf9e4",
   "metadata": {},
   "outputs": [
    {
     "name": "stdout",
     "output_type": "stream",
     "text": [
      "X_train shape: (10091606, 10)\n",
      "X_test shape: (4324975, 10)\n",
      "y_train shape: (10091606,)\n",
      "y_test shape: (4324975,)\n"
     ]
    }
   ],
   "source": [
    "from sklearn.model_selection import train_test_split\n",
    "\n",
    "# Define the features (X) and the target variable (y)\n",
    "X = df_selected.drop('returned', axis=1)  # selected features\n",
    "y = df_selected['returned']  # target variable\n",
    "\n",
    "# Split the dataset into training and testing sets (70% train, 30% test)\n",
    "X_train, X_test, y_train, y_test = train_test_split(X, y, test_size=0.3, random_state=42)\n",
    "\n",
    "# Print the shapes of the resulting sets\n",
    "print(\"X_train shape:\", X_train.shape)\n",
    "print(\"X_test shape:\", X_test.shape)\n",
    "print(\"y_train shape:\", y_train.shape)\n",
    "print(\"y_test shape:\", y_test.shape)"
   ]
  },
  {
   "cell_type": "markdown",
   "id": "49bfff89",
   "metadata": {},
   "source": [
    "# Step 6: Building Predictive Models"
   ]
  },
  {
   "cell_type": "markdown",
   "id": "3808d27b",
   "metadata": {},
   "source": [
    " We will choose from various machine learning algorithms suitable for binary classification tasks:\n",
    " Logistic regression, Random Forest, Support Vector Machine (SVM), Naïve Bayes, Decision Trees, K-Nearest Neighbors (KNN)."
   ]
  },
  {
   "cell_type": "markdown",
   "id": "a7f8f697",
   "metadata": {},
   "source": [
    "## 6.2. Train multiple models on the training data and evaluate their performance using appropriate metrics (e.g., accuracy, precision, recall, F1-score, ROC-AUC)."
   ]
  },
  {
   "cell_type": "markdown",
   "id": "7f031284",
   "metadata": {},
   "source": [
    "### 6.2.1 MODEL1: Random Forest Classifier "
   ]
  },
  {
   "cell_type": "code",
   "execution_count": 27,
   "id": "02b2727a",
   "metadata": {},
   "outputs": [],
   "source": [
    "# Import necessary libraries\n",
    "from sklearn.ensemble import RandomForestClassifier\n",
    "from sklearn.metrics import accuracy_score, precision_score, recall_score, f1_score, roc_auc_score\n",
    "import time\n",
    "\n",
    "# Initialize and train the Random Forest model\n",
    "rf_model = RandomForestClassifier(random_state=42)\n",
    "\n",
    "# Record the start time\n",
    "start_time_rf = time.time()\n",
    "\n",
    "rf_model.fit(X_train, y_train)\n",
    "\n",
    "# Calculate the training time\n",
    "training_time_rf = time.time() - start_time_rf\n",
    "\n",
    "# Make predictions\n",
    "rf_preds = rf_model.predict(X_test)\n",
    "\n",
    "# Evaluate the Random Forest model using various metrics\n",
    "rf_accuracy = accuracy_score(y_test, rf_preds)\n",
    "rf_precision = precision_score(y_test, rf_preds)\n",
    "rf_recall = recall_score(y_test, rf_preds)\n",
    "rf_f1 = f1_score(y_test, rf_preds)\n",
    "rf_roc_auc = roc_auc_score(y_test, rf_preds)\n",
    "\n",
    "# Print the evaluation results and training time\n",
    "print(\"Random Forest Model:\")\n",
    "print(f\"Training Time: {training_time_rf:.2f} seconds\")\n",
    "print(f\"Accuracy: {rf_accuracy:.2f}\")\n",
    "print(f\"Precision: {rf_precision:.2f}\")\n",
    "print(f\"Recall: {rf_recall:.2f}\")\n",
    "print(f\"F1 Score: {rf_f1:.2f}\")\n",
    "print(f\"ROC AUC: {rf_roc_auc:.2f}\")\n"
   ]
  },
  {
   "cell_type": "markdown",
   "id": "46f51557",
   "metadata": {},
   "source": [
    "* Training Time: 1741.10 seconds\n",
    "* Accuracy: 0.62\n",
    "* Precision: 0.52\n",
    "* Recall: 0.10\n",
    "* F1 Score: 0.16\n",
    "* ROC AUC: 0.52"
   ]
  },
  {
   "cell_type": "markdown",
   "id": "97258ac4",
   "metadata": {},
   "source": [
    "- The accuracy is at 0.62, indicating that the model correctly predicts about 62% of the cases.\n",
    "- The precision of 0.52 suggests that when the model predicts a return, it is correct about 52% of the time.\n",
    "- The recall of 0.10 is quite low, implying that the model is not capturing a significant portion of actual returns.\n",
    "- The F1 Score of 0.16 is relatively low, signifying a trade-off between precision and recall.\n",
    "- The ROC AUC of 0.52 suggests that the model's ability to distinguish between positive and negative cases is slightly better than random chance."
   ]
  },
  {
   "cell_type": "markdown",
   "id": "b250a7b4",
   "metadata": {},
   "source": [
    "### 6.2.2 MODEL2: LogisticRegression"
   ]
  },
  {
   "cell_type": "code",
   "execution_count": 28,
   "id": "774c54ec",
   "metadata": {},
   "outputs": [],
   "source": [
    "# Import necessary libraries\n",
    "from sklearn.linear_model import LogisticRegression\n",
    "from sklearn.metrics import accuracy_score, precision_score, recall_score, f1_score, roc_auc_score\n",
    "import time\n",
    "\n",
    "# Initialize and train the Logistic Regression model\n",
    "logistic_model = LogisticRegression(random_state=42, max_iter=1000)\n",
    "\n",
    "# Record the start time\n",
    "start_time_logistic = time.time()\n",
    "\n",
    "logistic_model.fit(X_train, y_train)\n",
    "\n",
    "# Calculate the training time\n",
    "training_time_logistic = time.time() - start_time_logistic\n",
    "\n",
    "# Make predictions\n",
    "logistic_preds = logistic_model.predict(X_test)\n",
    "\n",
    "# Evaluate the Logistic Regression model using various metrics\n",
    "logistic_accuracy = accuracy_score(y_test, logistic_preds)\n",
    "logistic_precision = precision_score(y_test, logistic_preds)\n",
    "logistic_recall = recall_score(y_test, logistic_preds)\n",
    "logistic_f1 = f1_score(y_test, logistic_preds)\n",
    "logistic_roc_auc = roc_auc_score(y_test, logistic_preds)\n",
    "\n",
    "# Print the evaluation results and training time\n",
    "print(\"Logistic Regression Model:\")\n",
    "print(f\"Training Time: {training_time_logistic:.2f} seconds\")\n",
    "print(f\"Accuracy: {logistic_accuracy:.2f}\")\n",
    "print(f\"Precision: {logistic_precision:.2f}\")\n",
    "print(f\"Recall: {logistic_recall:.2f}\")\n",
    "print(f\"F1 Score: {logistic_f1:.2f}\")\n",
    "print(f\"ROC AUC: {logistic_roc_auc:.2f}\")\n"
   ]
  },
  {
   "cell_type": "markdown",
   "id": "d212634f",
   "metadata": {},
   "source": [
    "* Training Time: 47.36 seconds\n",
    "* Accuracy: 0.62\n",
    "* Precision: 0.44\n",
    "* Recall: 0.00\n",
    "* F1 Score: 0.01\n",
    "* ROC AUC: 0.50"
   ]
  },
  {
   "cell_type": "markdown",
   "id": "e1cff686",
   "metadata": {},
   "source": [
    "- The accuracy is also at 0.62, which is the same as Random Forest.\n",
    "- The precision is 0.44, indicating that the model's positive predictions are correct 44% of the time.\n",
    "- The recall is very low at 0.00, meaning that the model fails to capture most actual returns.\n",
    "- The F1 Score is extremely low at 0.01, suggesting a lack of balance between precision and recall.\n",
    "- The ROC AUC is at 0.50, which is equivalent to random guessing."
   ]
  },
  {
   "cell_type": "markdown",
   "id": "27682860",
   "metadata": {},
   "source": [
    "These results indicate that both models may need further improvement to provide valuable predictions. We will consider experimenting  different Machine Learning algorithms, normalization/standardization, refining feature engineering to enhance the performance of the model. Additionally, since the dataset is imbalanced (with a low number of returns), we will consider employing techniques such as oversampling or undersampling to handle this class imbalance issue."
   ]
  },
  {
   "cell_type": "markdown",
   "id": "74fc7cff",
   "metadata": {},
   "source": [
    "### 6.2.3 MODEL 3: Gradient Boosting Classifier"
   ]
  },
  {
   "cell_type": "code",
   "execution_count": 29,
   "id": "77d03ff5",
   "metadata": {},
   "outputs": [],
   "source": [
    "from sklearn.ensemble import GradientBoostingClassifier\n",
    "\n",
    "# Initialize the Gradient Boosting model\n",
    "gb_model = GradientBoostingClassifier(random_state=42)\n",
    "\n",
    "# Train the model and measure the training time\n",
    "start_time = time.time()\n",
    "gb_model.fit(X_train, y_train)\n",
    "training_time = time.time() - start_time\n",
    "\n",
    "# Make predictions on the test set\n",
    "gb_predictions = gb_model.predict(X_test)\n",
    "\n",
    "# Calculate evaluation metrics\n",
    "accuracy_gb = accuracy_score(y_test, gb_predictions)\n",
    "precision_gb = precision_score(y_test, gb_predictions)\n",
    "recall_gb = recall_score(y_test, gb_predictions)\n",
    "f1_gb = f1_score(y_test, gb_predictions)\n",
    "roc_auc_gb = roc_auc_score(y_test, gb_predictions)\n",
    "\n",
    "# Print the results\n",
    "print(\"Gradient Boosting Model:\")\n",
    "print(f\"Training Time: {training_time:.2f} seconds\")\n",
    "print(f\"Accuracy: {accuracy_gb:.2f}\")\n",
    "print(f\"Precision: {precision_gb:.2f}\")\n",
    "print(f\"Recall: {recall_gb:.2f}\")\n",
    "print(f\"F1 Score: {f1_gb:.2f}\")\n",
    "print(f\"ROC AUC: {roc_auc_gb:.2f}\")\n"
   ]
  },
  {
   "cell_type": "markdown",
   "id": "593100c4",
   "metadata": {},
   "source": [
    "* Training Time: 1406.36 seconds\n",
    "* Accuracy: 0.62\n",
    "* Precision: 0.55\n",
    "* Recall: 0.04\n",
    "* F1 Score: 0.07\n",
    "* ROC AUC: 0.51"
   ]
  },
  {
   "cell_type": "markdown",
   "id": "470ae7ae",
   "metadata": {},
   "source": [
    "Gradient Boosting model has achieved similar accuracy to the Random Forest and Logistic Regression models but has a slightly higher precision. However, the recall and F1 Score are quite low, indicating that it's not effectively identifying all the positive cases (returns). The ROC AUC is also modest."
   ]
  },
  {
   "cell_type": "markdown",
   "id": "0a3aa0b2",
   "metadata": {},
   "source": [
    "### SVM"
   ]
  },
  {
   "cell_type": "code",
   "execution_count": 30,
   "id": "dd9d4e8e",
   "metadata": {},
   "outputs": [],
   "source": [
    "# from sklearn.svm import SVC\n",
    "# from sklearn.metrics import accuracy_score, precision_score, recall_score, f1_score, roc_auc_score\n",
    "# import time\n",
    "\n",
    "# # Initialize the SVM model\n",
    "# svm_model = SVC(random_state=42)\n",
    "\n",
    "# # Start training time\n",
    "# start_time = time.time()\n",
    "\n",
    "# # Fit the model to the training data\n",
    "# svm_model.fit(X_train, y_train)\n",
    "\n",
    "# # Predict the labels for the test data\n",
    "# svm_predictions = svm_model.predict(X_test)\n",
    "\n",
    "# # Calculate the training time\n",
    "# training_time = time.time() - start_time\n",
    "\n",
    "# # Evaluate the model\n",
    "# accuracy = accuracy_score(y_test, svm_predictions)\n",
    "# precision = precision_score(y_test, svm_predictions)\n",
    "# recall = recall_score(y_test, svm_predictions)\n",
    "# f1 = f1_score(y_test, svm_predictions)\n",
    "# roc_auc = roc_auc_score(y_test, svm_predictions)\n",
    "\n",
    "# # Print the results\n",
    "# print(\"Support Vector Machines (SVM) Model:\")\n",
    "# print(\"Training Time: {:.2f} seconds\".format(training_time))\n",
    "# print(\"Accuracy: {:.2f}\".format(accuracy))\n",
    "# print(\"Precision: {:.2f}\".format(precision))\n",
    "# print(\"Recall: {:.2f}\".format(recall))\n",
    "# print(\"F1 Score: {:.2f}\".format(f1))\n",
    "# print(\"ROC AUC: {:.2f}\".format(roc_auc))\n"
   ]
  },
  {
   "cell_type": "markdown",
   "id": "19fd0af2",
   "metadata": {},
   "source": [
    "SVM is taking too much time to process. Interrupted the kernel to use the time to test other models."
   ]
  },
  {
   "cell_type": "markdown",
   "id": "e7b57db6",
   "metadata": {},
   "source": [
    "### 6.2.4 K-Nearest Neighbors (KNN):"
   ]
  },
  {
   "cell_type": "code",
   "execution_count": 31,
   "id": "0fac5ed6",
   "metadata": {},
   "outputs": [],
   "source": [
    "from sklearn.neighbors import KNeighborsClassifier\n",
    "from sklearn.metrics import accuracy_score, precision_score, recall_score, f1_score, roc_auc_score\n",
    "import time\n",
    "# Initialize the KNN model\n",
    "knn_model = KNeighborsClassifier()\n",
    "\n",
    "# Start training time\n",
    "start_time = time.time()\n",
    "\n",
    "# Fit the model to the training data\n",
    "knn_model.fit(X_train, y_train)\n",
    "\n",
    "# Predict the labels for the test data\n",
    "knn_predictions = knn_model.predict(X_test)\n",
    "\n",
    "# Calculate the training time\n",
    "training_time = time.time() - start_time\n",
    "\n",
    "# Evaluate the model\n",
    "accuracy = accuracy_score(y_test, knn_predictions)\n",
    "precision = precision_score(y_test, knn_predictions)\n",
    "recall = recall_score(y_test, knn_predictions)\n",
    "f1 = f1_score(y_test, knn_predictions)\n",
    "roc_auc = roc_auc_score(y_test, knn_predictions)\n",
    "\n",
    "# Print the results\n",
    "print(\"K-Nearest Neighbors (KNN) Model:\")\n",
    "print(\"Training Time: {:.2f} seconds\".format(training_time))\n",
    "print(\"Accuracy: {:.2f}\".format(accuracy))\n",
    "print(\"Precision: {:.2f}\".format(precision))\n",
    "print(\"Recall: {:.2f}\".format(recall))\n",
    "print(\"F1 Score: {:.2f}\".format(f1))\n",
    "print(\"ROC AUC: {:.2f}\".format(roc_auc))\n"
   ]
  },
  {
   "cell_type": "markdown",
   "id": "242ead10",
   "metadata": {},
   "source": [
    "K-Nearest Neighbors (KNN) Model:\n",
    "\n",
    "Training Time: 826.74 seconds\n",
    "\n",
    "Accuracy: 0.56\n",
    "\n",
    "Precision: 0.41\n",
    "\n",
    "Recall: 0.31\n",
    "\n",
    "F1 Score: 0.35\n",
    "\n",
    "ROC AUC: 0.52"
   ]
  },
  {
   "cell_type": "markdown",
   "id": "d32a3c06",
   "metadata": {},
   "source": [
    "### Decision Trees:"
   ]
  },
  {
   "cell_type": "code",
   "execution_count": 32,
   "id": "5d92d619",
   "metadata": {},
   "outputs": [],
   "source": [
    "# from sklearn.tree import DecisionTreeClassifier\n",
    "# from sklearn.metrics import accuracy_score, precision_score, recall_score, f1_score, roc_auc_score\n",
    "# import time\n",
    "\n",
    "# # Initialize the Decision Tree model\n",
    "# decision_tree_model = DecisionTreeClassifier(random_state=42)\n",
    "\n",
    "# # Start training time\n",
    "# start_time = time.time()\n",
    "\n",
    "# # Fit the model to the training data\n",
    "# decision_tree_model.fit(X_train, y_train)\n",
    "\n",
    "# # Predict the labels for the test data\n",
    "# decision_tree_predictions = decision_tree_model.predict(X_test)\n",
    "\n",
    "# # Calculate the training time\n",
    "# training_time = time.time() - start_time\n",
    "\n",
    "# # Evaluate the model\n",
    "# accuracy = accuracy_score(y_test, decision_tree_predictions)\n",
    "# precision = precision_score(y_test, decision_tree_predictions)\n",
    "# recall = recall_score(y_test, decision_tree_predictions)\n",
    "# f1 = f1_score(y_test, decision_tree_predictions)\n",
    "# roc_auc = roc_auc_score(y_test, decision_tree_predictions)\n",
    "\n",
    "# # Print the results\n",
    "# print(\"Decision Trees Model:\")\n",
    "# print(\"Training Time: {:.2f} seconds\".format(training_time))\n",
    "# print(\"Accuracy: {:.2f}\".format(accuracy))\n",
    "# print(\"Precision: {:.2f}\".format(precision))\n",
    "# print(\"Recall: {:.2f}\".format(recall))\n",
    "# print(\"F1 Score: {:.2f}\".format(f1))\n",
    "# print(\"ROC AUC: {:.2f}\".format(roc_auc))\n"
   ]
  },
  {
   "cell_type": "markdown",
   "id": "2ce0b215",
   "metadata": {},
   "source": [
    "To be tested in the future"
   ]
  },
  {
   "cell_type": "markdown",
   "id": "a6cd96e1",
   "metadata": {},
   "source": [
    "### Naive Bayes:\n",
    "\n"
   ]
  },
  {
   "cell_type": "markdown",
   "id": "970e2947",
   "metadata": {},
   "source": [
    "to be tested in the future"
   ]
  },
  {
   "cell_type": "markdown",
   "id": "418d2a14",
   "metadata": {},
   "source": [
    "### 6.2.5. MODEL 5: Logistic Regression + Resampling technique "
   ]
  },
  {
   "cell_type": "code",
   "execution_count": 33,
   "id": "3cd17fca",
   "metadata": {},
   "outputs": [
    {
     "name": "stdout",
     "output_type": "stream",
     "text": [
      "Requirement already satisfied: imbalanced-learn in d:\\programs\\anaconda\\lib\\site-packages (0.11.0)\n",
      "Requirement already satisfied: joblib>=1.1.1 in d:\\programs\\anaconda\\lib\\site-packages (from imbalanced-learn) (1.3.2)\n",
      "Requirement already satisfied: scikit-learn>=1.0.2 in d:\\programs\\anaconda\\lib\\site-packages (from imbalanced-learn) (1.0.2)\n",
      "Requirement already satisfied: threadpoolctl>=2.0.0 in d:\\programs\\anaconda\\lib\\site-packages (from imbalanced-learn) (2.2.0)\n",
      "Requirement already satisfied: numpy>=1.17.3 in d:\\programs\\anaconda\\lib\\site-packages (from imbalanced-learn) (1.21.5)\n",
      "Requirement already satisfied: scipy>=1.5.0 in d:\\programs\\anaconda\\lib\\site-packages (from imbalanced-learn) (1.7.3)\n",
      "Note: you may need to restart the kernel to use updated packages.\n"
     ]
    },
    {
     "name": "stderr",
     "output_type": "stream",
     "text": [
      "WARNING: Ignoring invalid distribution -otebook (d:\\programs\\anaconda\\lib\\site-packages)\n",
      "WARNING: Ignoring invalid distribution -otebook (d:\\programs\\anaconda\\lib\\site-packages)\n",
      "WARNING: Ignoring invalid distribution -otebook (d:\\programs\\anaconda\\lib\\site-packages)\n",
      "WARNING: Ignoring invalid distribution -otebook (d:\\programs\\anaconda\\lib\\site-packages)\n",
      "WARNING: Ignoring invalid distribution -otebook (d:\\programs\\anaconda\\lib\\site-packages)\n",
      "WARNING: Ignoring invalid distribution -otebook (d:\\programs\\anaconda\\lib\\site-packages)\n"
     ]
    }
   ],
   "source": [
    "pip install imbalanced-learn"
   ]
  },
  {
   "cell_type": "code",
   "execution_count": 34,
   "id": "eaec4689",
   "metadata": {},
   "outputs": [],
   "source": [
    "from imblearn.over_sampling import RandomOverSampler\n",
    "\n",
    "# Initialize the RandomOverSampler\n",
    "oversampler = RandomOverSampler(random_state=42)\n",
    "\n",
    "# Resample the data\n",
    "X_resampled, y_resampled = oversampler.fit_resample(X, y)\n",
    "\n",
    "# Now, X_resampled and y_resampled contain the resampled data\n"
   ]
  },
  {
   "cell_type": "code",
   "execution_count": 35,
   "id": "da10415c",
   "metadata": {},
   "outputs": [],
   "source": [
    "# Import necessary libraries\n",
    "from sklearn.linear_model import LogisticRegression\n",
    "from sklearn.metrics import accuracy_score, precision_score, recall_score, f1_score, roc_auc_score\n",
    "import time\n",
    "\n",
    "# Initialize and train the Logistic Regression model\n",
    "logistic_model = LogisticRegression(random_state=42, max_iter=1000)\n",
    "\n",
    "# Record the start time\n",
    "start_time_logistic = time.time()\n",
    "\n",
    "logistic_model.fit(X_resampled, y_resampled)  # Use resampled data for training\n",
    "\n",
    "# Calculate the training time\n",
    "training_time_logistic = time.time() - start_time_logistic\n",
    "\n",
    "# Make predictions on the test data\n",
    "logistic_preds = logistic_model.predict(X_test)\n",
    "\n",
    "# Evaluate the Logistic Regression model using various metrics\n",
    "logistic_accuracy = accuracy_score(y_test, logistic_preds)\n",
    "logistic_precision = precision_score(y_test, logistic_preds)\n",
    "logistic_recall = recall_score(y_test, logistic_preds)\n",
    "logistic_f1 = f1_score(y_test, logistic_preds)\n",
    "logistic_roc_auc = roc_auc_score(y_test, logistic_preds)\n",
    "\n",
    "# Print the evaluation results and training time\n",
    "print(\"Logistic Regression Model with Oversampling:\")\n",
    "print(f\"Training Time: {training_time_logistic:.2f} seconds\")\n",
    "print(f\"Accuracy: {logistic_accuracy:.2f}\")\n",
    "print(f\"Precision: {logistic_precision:.2f}\")\n",
    "print(f\"Recall: {logistic_recall:.2f}\")\n",
    "print(f\"F1 Score: {logistic_f1:.2f}\")\n",
    "print(f\"ROC AUC: {logistic_roc_auc:.2f}\")\n"
   ]
  },
  {
   "cell_type": "markdown",
   "id": "db0990bd",
   "metadata": {},
   "source": [
    "Logistic Regression Model with Oversampling: \n",
    "* Training Time: 26.52 seconds \n",
    "* Accuracy: 0.51 \n",
    "* Precision: 0.40 \n",
    "* Recall: 0.54 \n",
    "* F1 Score: 0.46 \n",
    "* ROC AUC: 0.51\n",
    "\n",
    "It looks like the Logistic Regression model with oversampling is now providing more balanced results with an improved recall score (0.54), which means it's better at identifying returned orders. However, the overall accuracy and precision have decreased somewhat.\n",
    "\n"
   ]
  },
  {
   "cell_type": "code",
   "execution_count": null,
   "id": "7ad6819d",
   "metadata": {},
   "outputs": [],
   "source": []
  },
  {
   "cell_type": "markdown",
   "id": "8f73ff6e",
   "metadata": {},
   "source": [
    "# Normalization"
   ]
  },
  {
   "cell_type": "markdown",
   "id": "781267b4",
   "metadata": {},
   "source": [
    "### 6.2.6. MODEL 6: Logistic Regression + Normalization"
   ]
  },
  {
   "cell_type": "code",
   "execution_count": 36,
   "id": "d2595052",
   "metadata": {},
   "outputs": [],
   "source": [
    "from sklearn.preprocessing import MinMaxScaler\n",
    "\n",
    "# Select the numerical features to be normalized\n",
    "numerical_features = ['total_products_purchased_on_order', 'price_most_expensive_product_on_order']\n",
    "\n",
    "# Initialize the MinMaxScaler\n",
    "scaler = MinMaxScaler()\n",
    "\n",
    "# Fit the scaler on the training data and transform both training and test data\n",
    "X_train_normalized = X_train.copy()  # Create a copy of the data\n",
    "X_test_normalized = X_test.copy()  # Create a copy of the data\n",
    "X_train_normalized[numerical_features] = scaler.fit_transform(X_train[numerical_features])\n",
    "X_test_normalized[numerical_features] = scaler.transform(X_test[numerical_features])"
   ]
  },
  {
   "cell_type": "code",
   "execution_count": 37,
   "id": "19c5c0af",
   "metadata": {},
   "outputs": [
    {
     "name": "stdout",
     "output_type": "stream",
     "text": [
      "Logistic Regression Model with Feature Normalization:\n",
      "Training Time: 37.25 seconds\n",
      "Accuracy: 0.61\n",
      "Precision: 0.40\n",
      "Recall: 0.02\n",
      "F1 Score: 0.03\n",
      "ROC AUC: 0.50\n"
     ]
    }
   ],
   "source": [
    "from sklearn.linear_model import LogisticRegression\n",
    "from sklearn.metrics import accuracy_score, precision_score, recall_score, f1_score, roc_auc_score\n",
    "import time\n",
    "\n",
    "# Initialize and train the Logistic Regression model\n",
    "logistic_model = LogisticRegression(random_state=42, max_iter=1000)\n",
    "\n",
    "# Record the start time\n",
    "start_time_logistic = time.time()\n",
    "\n",
    "# Train the Logistic Regression model using the normalized training data\n",
    "logistic_model.fit(X_train_normalized, y_train)\n",
    "\n",
    "# Calculate the training time\n",
    "training_time_logistic = time.time() - start_time_logistic\n",
    "\n",
    "# Make predictions on the test data\n",
    "logistic_preds = logistic_model.predict(X_test_normalized)\n",
    "\n",
    "# Evaluate the Logistic Regression model using various metrics\n",
    "logistic_accuracy = accuracy_score(y_test, logistic_preds)\n",
    "logistic_precision = precision_score(y_test, logistic_preds)\n",
    "logistic_recall = recall_score(y_test, logistic_preds)\n",
    "logistic_f1 = f1_score(y_test, logistic_preds)\n",
    "logistic_roc_auc = roc_auc_score(y_test, logistic_preds)\n",
    "\n",
    "# Print the evaluation results and training time\n",
    "print(\"Logistic Regression Model with Feature Normalization:\")\n",
    "print(f\"Training Time: {training_time_logistic:.2f} seconds\")\n",
    "print(f\"Accuracy: {logistic_accuracy:.2f}\")\n",
    "print(f\"Precision: {logistic_precision:.2f}\")\n",
    "print(f\"Recall: {logistic_recall:.2f}\")\n",
    "print(f\"F1 Score: {logistic_f1:.2f}\")\n",
    "print(f\"ROC AUC: {logistic_roc_auc:.2f}\")\n"
   ]
  },
  {
   "cell_type": "markdown",
   "id": "861168e8",
   "metadata": {},
   "source": [
    "The Logistic Regression model trained with feature normalization displayed moderate accuracy at 61%. However, its precision, recall, and F1 Score were notably low, at 40%, 2%, and 3%, respectively. This indicates a challenge in accurately predicting product returns and identifying actual return cases. The ROC AUC score of 0.50 suggests performance similar to random chance."
   ]
  },
  {
   "cell_type": "markdown",
   "id": "4a25bc46",
   "metadata": {},
   "source": [
    "### 6.2.7. MODEL 7: K-Nearest Neighbors (KNN)  + normalization"
   ]
  },
  {
   "cell_type": "code",
   "execution_count": 38,
   "id": "bb0c6f58",
   "metadata": {
    "scrolled": true
   },
   "outputs": [],
   "source": [
    "from sklearn.neighbors import KNeighborsClassifier\n",
    "from sklearn.metrics import accuracy_score, precision_score, recall_score, f1_score, roc_auc_score\n",
    "import time\n",
    "\n",
    "# Initialize the KNN model\n",
    "knn_model = KNeighborsClassifier()\n",
    "\n",
    "# Record the start time\n",
    "start_time_knn = time.time()\n",
    "\n",
    "# Train the KNN model using the scaled training data\n",
    "knn_model.fit(X_train_normalized, y_train)\n",
    "\n",
    "# Calculate the training time\n",
    "training_time_knn = time.time() - start_time_knn\n",
    "\n",
    "# Make predictions on the test data\n",
    "knn_preds = knn_model.predict(X_test_normalized)\n",
    "\n",
    "# Evaluate the KNN model using various metrics\n",
    "knn_accuracy = accuracy_score(y_test, knn_preds)\n",
    "knn_precision = precision_score(y_test, knn_preds)\n",
    "knn_recall = recall_score(y_test, knn_preds)\n",
    "knn_f1 = f1_score(y_test, knn_preds)\n",
    "knn_roc_auc = roc_auc_score(y_test, knn_preds)\n",
    "\n",
    "# Print the evaluation results and training time\n",
    "print(\"K-Nearest Neighbors (KNN) Model with Feature Standardization:\")\n",
    "print(f\"Training Time: {training_time_knn:.2f} seconds\")\n",
    "print(f\"Accuracy: {knn_accuracy:.2f}\")\n",
    "print(f\"Precision: {knn_precision:.2f}\")\n",
    "print(f\"Recall: {knn_recall:.2f}\")\n",
    "print(f\"F1 Score: {knn_f1:.2f}\")\n",
    "print(f\"ROC AUC: {knn_roc_auc:.2f}\")\n"
   ]
  },
  {
   "cell_type": "markdown",
   "id": "8a58271f",
   "metadata": {},
   "source": [
    "* K-Nearest Neighbors (KNN) Model with Feature Standardization:\n",
    "* Training Time: 128.50 seconds\n",
    "* Accuracy: 0.56\n",
    "* Precision: 0.41\n",
    "* Recall: 0.31\n",
    "* F1 Score: 0.35\n",
    "* ROC AUC: 0.52"
   ]
  },
  {
   "cell_type": "code",
   "execution_count": null,
   "id": "29ab14e9",
   "metadata": {},
   "outputs": [],
   "source": []
  }
 ],
 "metadata": {
  "kernelspec": {
   "display_name": "Python 3 (ipykernel)",
   "language": "python",
   "name": "python3"
  },
  "language_info": {
   "codemirror_mode": {
    "name": "ipython",
    "version": 3
   },
   "file_extension": ".py",
   "mimetype": "text/x-python",
   "name": "python",
   "nbconvert_exporter": "python",
   "pygments_lexer": "ipython3",
   "version": "3.9.12"
  }
 },
 "nbformat": 4,
 "nbformat_minor": 5
}
